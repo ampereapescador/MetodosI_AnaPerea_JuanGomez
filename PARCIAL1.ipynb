{
  "nbformat": 4,
  "nbformat_minor": 0,
  "metadata": {
    "colab": {
      "provenance": [],
      "authorship_tag": "ABX9TyMgcC79kVRTIJsLWk0PVfYO",
      "include_colab_link": true
    },
    "kernelspec": {
      "name": "python3",
      "display_name": "Python 3"
    },
    "language_info": {
      "name": "python"
    }
  },
  "cells": [
    {
      "cell_type": "markdown",
      "metadata": {
        "id": "view-in-github",
        "colab_type": "text"
      },
      "source": [
        "<a href=\"https://colab.research.google.com/github/ampereapescador/MetodosI_AnaPerea_JuanGomez/blob/main/PARCIAL1.ipynb\" target=\"_parent\"><img src=\"https://colab.research.google.com/assets/colab-badge.svg\" alt=\"Open In Colab\"/></a>"
      ]
    },
    {
      "cell_type": "code",
      "execution_count": null,
      "metadata": {
        "id": "Fk8GrzlfGJ9o"
      },
      "outputs": [],
      "source": [
        "import numpy as np"
      ]
    },
    {
      "cell_type": "code",
      "source": [],
      "metadata": {
        "id": "AAAhX1k7GtOz"
      },
      "execution_count": null,
      "outputs": []
    },
    {
      "cell_type": "markdown",
      "source": [
        "5: Raíces de los primeros 5 polinomios de Laguerre"
      ],
      "metadata": {
        "id": "kuEcGFX5Gu6I"
      }
    },
    {
      "cell_type": "code",
      "source": [],
      "metadata": {
        "id": "0aRgOkeOG6MP"
      },
      "execution_count": null,
      "outputs": []
    },
    {
      "cell_type": "markdown",
      "source": [
        "7: Minimización del camino óptico"
      ],
      "metadata": {
        "id": "G1n7W5FiGyKQ"
      }
    },
    {
      "cell_type": "code",
      "source": [],
      "metadata": {
        "id": "5ErsvFx1G6y4"
      },
      "execution_count": null,
      "outputs": []
    },
    {
      "cell_type": "markdown",
      "source": [
        "7: Aproximación de la función sin(x)"
      ],
      "metadata": {
        "id": "hrDnB-RUGyfr"
      }
    },
    {
      "cell_type": "code",
      "source": [],
      "metadata": {
        "id": "y3w4bENuG7UD"
      },
      "execution_count": null,
      "outputs": []
    }
  ]
}