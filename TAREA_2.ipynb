{
  "nbformat": 4,
  "nbformat_minor": 0,
  "metadata": {
    "colab": {
      "provenance": [],
      "authorship_tag": "ABX9TyM6mFnTIXfIHdYTLhsPRahy",
      "include_colab_link": true
    },
    "kernelspec": {
      "name": "python3",
      "display_name": "Python 3"
    },
    "language_info": {
      "name": "python"
    }
  },
  "cells": [
    {
      "cell_type": "markdown",
      "metadata": {
        "id": "view-in-github",
        "colab_type": "text"
      },
      "source": [
        "<a href=\"https://colab.research.google.com/github/ampereapescador/MetodosI_AnaPerea_JuanGomez/blob/main/TAREA_2.ipynb\" target=\"_parent\"><img src=\"https://colab.research.google.com/assets/colab-badge.svg\" alt=\"Open In Colab\"/></a>"
      ]
    },
    {
      "cell_type": "code",
      "execution_count": 1,
      "metadata": {
        "id": "YTHqi_aNh2pM"
      },
      "outputs": [],
      "source": [
        "import numpy as np\n",
        "import matplotlib.pyplot as plt\n"
      ]
    },
    {
      "cell_type": "markdown",
      "source": [
        "PUNTO 1\n",
        "\n",
        "8. Es posible construir una aproximaci´on de orden O(h2) para la derivada progresiva. Para\n",
        "tal prop´osito, se escribe el polinomio de interpolaci´on de grado 2 para el conjunto soporte Ω = {(x0, f(x0)), (x1, f(x1)), (x2, f(x2))}, y posteriormente se calcula la derivada de este\n",
        "polinomio.\n",
        "a) Calcular anal´ıticamente el polinomio que interpola el conjunto soporte.\n",
        "b) Derivar el polinomio interpolador para encontrar la derivada en el punto x0:\n",
        "f′(x0) ≈ p′(x0) =\n",
        "1\n",
        "2h\n",
        "(−3f(x0) + 4f(x1) − f(x2)). (4.38)\n",
        "Si la discretizaci´on es equidistante, tenemos:\n",
        "f′(x) ∼=\n",
        "1\n",
        "2h\n",
        "(−3f(x) + 4f(x + h) − f(x + 2h)). (4.39)\n",
        "c) (Python) Para f(x) =\n",
        "p\n",
        "tan(x) estimar la derivada progresiva de orden O(h2)\n",
        "(expresi´on anterior) en el intervalo [0.1, 1.1] con h = 0.01.\n",
        "d) (Python) Para f(x) =\n",
        "p\n",
        "tan(x) estimar la derivada central de orden O(h2) en el\n",
        "intervalo [0.1, 1.1] con h = 0.01.\n",
        "e) Calcule anal´ıticamente la derivada de la funci´on f(x), y grafique con la estimaci´on\n",
        "central y progresiva de orden O(h2).\n",
        "f) Grafique el error nodal para ambas aproximaciones. ¿Tienen efectivamente el mismo\n",
        "orden de precisi´on ambos resultados?\n"
      ],
      "metadata": {
        "id": "InFDgt4BiFH5"
      }
    },
    {
      "cell_type": "code",
      "source": [],
      "metadata": {
        "id": "H1SXEy_ziGp3"
      },
      "execution_count": null,
      "outputs": []
    },
    {
      "cell_type": "markdown",
      "source": [
        "PUNTO 2\n",
        "\n",
        "2. (Theoretical) Compruebe que las funciones cardinales son base (i.e, Li(x) = δij para\n",
        "cada j ∈ {0, 1, ..., n})."
      ],
      "metadata": {
        "id": "B54rvP6viHaN"
      }
    },
    {
      "cell_type": "code",
      "source": [],
      "metadata": {
        "id": "Z9WYBQHDiIzt"
      },
      "execution_count": null,
      "outputs": []
    },
    {
      "cell_type": "markdown",
      "source": [
        "PUNTO 3\n",
        "\n",
        "3. ¿Con qu´e grado de exactitud podemos calcular\n",
        "√\n",
        "114 mediante la interpolaci´on de de\n",
        "Lagrange para la funci´on f(x) =\n",
        "√\n",
        "x, si elegimos los puntos x0 = 100, x1 = 121, x2 = 144.\n",
        "Rpta: |E| ≃ 1.8 × 10−3."
      ],
      "metadata": {
        "id": "CudKsLZ4iI-d"
      }
    },
    {
      "cell_type": "code",
      "source": [
        "# Interpolacion de Lagrange\n",
        "\n",
        "def intlagrange(x, x0, x1, x2, f0, f1, f2):\n",
        "    # Funciones cardinales de Lagrange\n",
        "    L0 = ((x - x1) * (x - x2)) / ((x0 - x1) * (x0 - x2))\n",
        "    L1 = ((x - x0) * (x - x2)) / ((x1 - x0) * (x1 - x2))\n",
        "    L2 = ((x - x0) * (x - x1)) / ((x2 - x0) * (x2 - x1))\n",
        "\n",
        "\n",
        "    P2 = f0 * L0 + f1 * L1 + f2 * L2\n",
        "    return P2\n",
        "\n",
        "# Funci´on f(x) = √ x\n",
        "x0= 100\n",
        "fx0= np.sqrt(x0)\n",
        "\n",
        "x1= 121\n",
        "fx1=np.sqrt(x1)\n",
        "\n",
        "x2= 144\n",
        "fx2= np.sqrt(x2)\n",
        "\n",
        "# Punto prueba\n",
        "x = 114\n",
        "\n",
        "# Aproximación\n",
        "aproximacion = intlagrange(x, x0, x1, x2, fx0, fx1, fx2)\n",
        "exact_value = np.sqrt(114)\n",
        "\n",
        "# Resultado\n",
        "print(f\"Aproximación de √114: {aproximacion}\")\n",
        "print(f\"Valor exacto de √114: {exact_value}\")\n",
        "\n",
        "# Error\n",
        "def third_derivative_sqrt(x):\n",
        "    # Tercera derivada de sqrt(x): (3/8) * x^(-5/2)\n",
        "    return (3 / 8) * x**(-2.5)\n",
        "\n",
        "# Error en x = 114\n",
        "xi = 114\n",
        "third_derivative = third_derivative_sqrt(xi)\n",
        "\n",
        "# Recalculo\n",
        "product_terms = abs((x - x0) * (x - x1) * (x - x2))\n",
        "error = abs((third_derivative / 6) * product_terms)\n",
        "\n",
        "print(f\"Estimación del error |E| ≈ {error:.3e}\")"
      ],
      "metadata": {
        "colab": {
          "base_uri": "https://localhost:8080/"
        },
        "id": "zOYotzMeiKS5",
        "outputId": "362454be-2e8f-4d3b-bec2-ce838c6f0b8e"
      },
      "execution_count": 11,
      "outputs": [
        {
          "output_type": "stream",
          "name": "stdout",
          "text": [
            "Aproximación de √114: 10.675889328063242\n",
            "Valor exacto de √114: 10.677078252031311\n",
            "Estimación del error |E| ≈ 1.324e-03\n"
          ]
        }
      ]
    },
    {
      "cell_type": "markdown",
      "source": [
        "PUNTO 4\n",
        "\n",
        "4. En el lanzamiento de una bala, una c´amara fotogr´afica registra las siguientes posiciones\n",
        "en metros respecto al arma homicida (tome ⃗g = −9.8 m/s2 ˆj ):\n",
        "https://raw.githubusercontent.com/asegura4488/Database/main/MetodosComputacionalesReforma/\n",
        "Parabolico.csv\n",
        "Estime el vector velocidad inicial, que estar´ıa definido por la magnitud y direcci´on. Rpta:\n",
        "V0 = 10 m/s y θ = 20◦. Hint: Encuentre el termino lineal y cuadr´atico de la interpolaci´on\n",
        "y compare con la ecuaci´on de trayectoria de la bala."
      ],
      "metadata": {
        "id": "LUq4UDC6kJdN"
      }
    },
    {
      "cell_type": "code",
      "source": [],
      "metadata": {
        "id": "ZObMJgY3kK2r"
      },
      "execution_count": null,
      "outputs": []
    }
  ]
}