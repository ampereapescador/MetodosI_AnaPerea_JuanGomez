{
  "nbformat": 4,
  "nbformat_minor": 0,
  "metadata": {
    "colab": {
      "provenance": [],
      "authorship_tag": "ABX9TyPBrF5ko7o/fhMrfSY5wAFV",
      "include_colab_link": true
    },
    "kernelspec": {
      "name": "python3",
      "display_name": "Python 3"
    },
    "language_info": {
      "name": "python"
    }
  },
  "cells": [
    {
      "cell_type": "markdown",
      "metadata": {
        "id": "view-in-github",
        "colab_type": "text"
      },
      "source": [
        "<a href=\"https://colab.research.google.com/github/ampereapescador/MetodosI_AnaPerea_JuanGomez/blob/main/TAREA_2.ipynb\" target=\"_parent\"><img src=\"https://colab.research.google.com/assets/colab-badge.svg\" alt=\"Open In Colab\"/></a>"
      ]
    },
    {
      "cell_type": "code",
      "execution_count": null,
      "metadata": {
        "id": "YTHqi_aNh2pM"
      },
      "outputs": [],
      "source": [
        "import numpy as np\n",
        "import matplotlib.pyplot as plt\n"
      ]
    },
    {
      "cell_type": "markdown",
      "source": [
        "PUNTO 1\n"
      ],
      "metadata": {
        "id": "InFDgt4BiFH5"
      }
    },
    {
      "cell_type": "code",
      "source": [],
      "metadata": {
        "id": "H1SXEy_ziGp3"
      },
      "execution_count": null,
      "outputs": []
    },
    {
      "cell_type": "markdown",
      "source": [
        "PUNTO 2\n",
        "2. (Theoretical) Compruebe que las funciones cardinales son base (i.e, Li(x) = δij para\n",
        "cada j ∈ {0, 1, ..., n})."
      ],
      "metadata": {
        "id": "B54rvP6viHaN"
      }
    },
    {
      "cell_type": "code",
      "source": [],
      "metadata": {
        "id": "Z9WYBQHDiIzt"
      },
      "execution_count": null,
      "outputs": []
    },
    {
      "cell_type": "markdown",
      "source": [
        "PUNTO 3\n",
        "3. ¿Con qu´e grado de exactitud podemos calcular\n",
        "√\n",
        "114 mediante la interpolaci´on de de\n",
        "Lagrange para la funci´on f(x) =\n",
        "√\n",
        "x, si elegimos los puntos x0 = 100, x1 = 121, x2 = 144.\n",
        "Rpta: |E| ≃ 1.8 × 10−3."
      ],
      "metadata": {
        "id": "CudKsLZ4iI-d"
      }
    },
    {
      "cell_type": "code",
      "source": [],
      "metadata": {
        "id": "zOYotzMeiKS5"
      },
      "execution_count": null,
      "outputs": []
    },
    {
      "cell_type": "markdown",
      "source": [
        "PUNTO 4\n",
        "\n",
        "4. En el lanzamiento de una bala, una c´amara fotogr´afica registra las siguientes posiciones\n",
        "en metros respecto al arma homicida (tome ⃗g = −9.8 m/s2 ˆj ):\n",
        "https://raw.githubusercontent.com/asegura4488/Database/main/MetodosComputacionalesReforma/\n",
        "Parabolico.csv\n",
        "Estime el vector velocidad inicial, que estar´ıa definido por la magnitud y direcci´on. Rpta:\n",
        "V0 = 10 m/s y θ = 20◦. Hint: Encuentre el termino lineal y cuadr´atico de la interpolaci´on\n",
        "y compare con la ecuaci´on de trayectoria de la bala."
      ],
      "metadata": {
        "id": "LUq4UDC6kJdN"
      }
    },
    {
      "cell_type": "code",
      "source": [],
      "metadata": {
        "id": "ZObMJgY3kK2r"
      },
      "execution_count": null,
      "outputs": []
    }
  ]
}