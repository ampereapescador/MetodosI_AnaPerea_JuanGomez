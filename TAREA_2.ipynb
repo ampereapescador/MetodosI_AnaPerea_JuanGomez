{
  "nbformat": 4,
  "nbformat_minor": 0,
  "metadata": {
    "colab": {
      "provenance": [],
      "authorship_tag": "ABX9TyPQ8JLCuSAspBcmAGZv8ByU",
      "include_colab_link": true
    },
    "kernelspec": {
      "name": "python3",
      "display_name": "Python 3"
    },
    "language_info": {
      "name": "python"
    }
  },
  "cells": [
    {
      "cell_type": "markdown",
      "metadata": {
        "id": "view-in-github",
        "colab_type": "text"
      },
      "source": [
        "<a href=\"https://colab.research.google.com/github/ampereapescador/MetodosI_AnaPerea_JuanGomez/blob/main/TAREA_2.ipynb\" target=\"_parent\"><img src=\"https://colab.research.google.com/assets/colab-badge.svg\" alt=\"Open In Colab\"/></a>"
      ]
    },
    {
      "cell_type": "code",
      "execution_count": null,
      "metadata": {
        "id": "YTHqi_aNh2pM"
      },
      "outputs": [],
      "source": [
        "import numpy as np\n",
        "import matplotlib.pyplot as plt\n"
      ]
    },
    {
      "cell_type": "markdown",
      "source": [
        "PUNTO 1\n",
        "2. Programar un mal generador de n´umeros aleatorios y usar drand48 en Python para\n",
        "reproducir la Figura [8.1]."
      ],
      "metadata": {
        "id": "InFDgt4BiFH5"
      }
    },
    {
      "cell_type": "code",
      "source": [],
      "metadata": {
        "id": "H1SXEy_ziGp3"
      },
      "execution_count": null,
      "outputs": []
    },
    {
      "cell_type": "markdown",
      "source": [
        "PUNTO 2\n",
        "3. Un test simple para probar la calidad de un generador de eventos es evaluar los momentos\n",
        "de la distribuci´on de datos, la cual difiere del valor de la distribuci´on uniforme en un orden\n",
        "de aproximacio´n O(√1\n",
        "N\n",
        "); esto se debe al error asociado al m´etodo de MonteCarlo.\n",
        "1\n",
        "N\n",
        "XN\n",
        "i=1\n",
        "xki\n",
        "∼=\n",
        "Z 1\n",
        "0\n",
        "xkP(x)dx ∼=\n",
        "1\n",
        "k + 1\n",
        "+ O(\n",
        "1\n",
        "√\n",
        "N\n",
        ") (8.23)\n",
        "a) Implemente un c´odigo que estime los primeros k = 10 momentos de la distribuci´on\n",
        "de datos generados por Numpy. Genere np.logspace(2,6,5) eventos y grafique el eje\n",
        "x en escala logaritmica. Lo momentos de la distribuci´on de datos de muestran en la\n",
        "Figura [8.2]\n",
        "150 Chapter 8. M´etodo de MonteCarlo\n",
        "102 103 104 105 106\n",
        "N Points\n",
        "0.0\n",
        "0.1\n",
        "0.2\n",
        "0.3\n",
        "0.4\n",
        "0.5\n",
        "0.6\n",
        "k-moment value\n",
        "k=1\n",
        "k=2\n",
        "k=3\n",
        "k=4\n",
        "k=5\n",
        "k=6\n",
        "k=7\n",
        "k=8\n",
        "k=9\n",
        "k=10\n",
        "Figure 8.2: Primeros k = 10 vecinos del generador Numpy como funci´on del n´umero de eventos\n",
        "generados."
      ],
      "metadata": {
        "id": "B54rvP6viHaN"
      }
    },
    {
      "cell_type": "code",
      "source": [],
      "metadata": {
        "id": "Z9WYBQHDiIzt"
      },
      "execution_count": null,
      "outputs": []
    },
    {
      "cell_type": "markdown",
      "source": [
        "PUNTO 3\n",
        "4. Otro m´etodo para probar la calidad de un generador de eventos es evaluar las correlaciones\n",
        "con los k-vecinos m´as cercanos, donde k ∼ 30.\n",
        "C(k) =\n",
        "1\n",
        "N\n",
        "XN\n",
        "i=1\n",
        "xixi+k, (k = 1, 2, 3...) (8.24)\n",
        "a) Implemente un c´odigo que estime los coeficientes de correlaci´on para los primeros k=30\n",
        "vecinos, con N = 104 eventos de la distribuci´on de datos generados por Numpy. Las\n",
        "correlaciones se muestran en la Figura [8.3]."
      ],
      "metadata": {
        "id": "CudKsLZ4iI-d"
      }
    },
    {
      "cell_type": "code",
      "source": [],
      "metadata": {
        "id": "zOYotzMeiKS5"
      },
      "execution_count": null,
      "outputs": []
    }
  ]
}