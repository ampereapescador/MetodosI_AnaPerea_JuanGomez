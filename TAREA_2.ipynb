{
  "nbformat": 4,
  "nbformat_minor": 0,
  "metadata": {
    "colab": {
      "provenance": [],
      "authorship_tag": "ABX9TyMM/mQKC+wEvH63MHssREu+",
      "include_colab_link": true
    },
    "kernelspec": {
      "name": "python3",
      "display_name": "Python 3"
    },
    "language_info": {
      "name": "python"
    }
  },
  "cells": [
    {
      "cell_type": "markdown",
      "metadata": {
        "id": "view-in-github",
        "colab_type": "text"
      },
      "source": [
        "<a href=\"https://colab.research.google.com/github/ampereapescador/MetodosI_AnaPerea_JuanGomez/blob/main/TAREA_2.ipynb\" target=\"_parent\"><img src=\"https://colab.research.google.com/assets/colab-badge.svg\" alt=\"Open In Colab\"/></a>"
      ]
    },
    {
      "cell_type": "code",
      "execution_count": null,
      "metadata": {
        "id": "YTHqi_aNh2pM"
      },
      "outputs": [],
      "source": [
        "import numpy as np\n",
        "import matplotlib.pyplot as plt\n"
      ]
    },
    {
      "cell_type": "markdown",
      "source": [
        "PUNTO 1\n",
        "\n",
        "8. Es posible construir una aproximaci´on de orden O(h2) para la derivada progresiva. Para\n",
        "tal prop´osito, se escribe el polinomio de interpolaci´on de grado 2 para el conjunto soporte Ω = {(x0, f(x0)), (x1, f(x1)), (x2, f(x2))}, y posteriormente se calcula la derivada de este\n",
        "polinomio.\n",
        "a) Calcular anal´ıticamente el polinomio que interpola el conjunto soporte.\n",
        "b) Derivar el polinomio interpolador para encontrar la derivada en el punto x0:\n",
        "f′(x0) ≈ p′(x0) =\n",
        "1\n",
        "2h\n",
        "(−3f(x0) + 4f(x1) − f(x2)). (4.38)\n",
        "Si la discretizaci´on es equidistante, tenemos:\n",
        "f′(x) ∼=\n",
        "1\n",
        "2h\n",
        "(−3f(x) + 4f(x + h) − f(x + 2h)). (4.39)\n",
        "c) (Python) Para f(x) =\n",
        "p\n",
        "tan(x) estimar la derivada progresiva de orden O(h2)\n",
        "(expresi´on anterior) en el intervalo [0.1, 1.1] con h = 0.01.\n",
        "d) (Python) Para f(x) =\n",
        "p\n",
        "tan(x) estimar la derivada central de orden O(h2) en el\n",
        "intervalo [0.1, 1.1] con h = 0.01.\n",
        "e) Calcule anal´ıticamente la derivada de la funci´on f(x), y grafique con la estimaci´on\n",
        "central y progresiva de orden O(h2).\n",
        "f) Grafique el error nodal para ambas aproximaciones. ¿Tienen efectivamente el mismo\n",
        "orden de precisi´on ambos resultados?\n"
      ],
      "metadata": {
        "id": "InFDgt4BiFH5"
      }
    },
    {
      "cell_type": "code",
      "source": [],
      "metadata": {
        "id": "H1SXEy_ziGp3"
      },
      "execution_count": null,
      "outputs": []
    },
    {
      "cell_type": "markdown",
      "source": [
        "PUNTO 2\n",
        "\n",
        "2. (Theoretical) Compruebe que las funciones cardinales son base (i.e, Li(x) = δij para\n",
        "cada j ∈ {0, 1, ..., n})."
      ],
      "metadata": {
        "id": "B54rvP6viHaN"
      }
    },
    {
      "cell_type": "code",
      "source": [],
      "metadata": {
        "id": "Z9WYBQHDiIzt"
      },
      "execution_count": null,
      "outputs": []
    },
    {
      "cell_type": "markdown",
      "source": [
        "PUNTO 3\n",
        "\n",
        "3. ¿Con qu´e grado de exactitud podemos calcular\n",
        "√\n",
        "114 mediante la interpolaci´on de de\n",
        "Lagrange para la funci´on f(x) =\n",
        "√\n",
        "x, si elegimos los puntos x0 = 100, x1 = 121, x2 = 144.\n",
        "Rpta: |E| ≃ 1.8 × 10−3."
      ],
      "metadata": {
        "id": "CudKsLZ4iI-d"
      }
    },
    {
      "cell_type": "code",
      "source": [],
      "metadata": {
        "id": "zOYotzMeiKS5"
      },
      "execution_count": null,
      "outputs": []
    },
    {
      "cell_type": "markdown",
      "source": [
        "PUNTO 4\n",
        "\n",
        "4. En el lanzamiento de una bala, una c´amara fotogr´afica registra las siguientes posiciones\n",
        "en metros respecto al arma homicida (tome ⃗g = −9.8 m/s2 ˆj ):\n",
        "https://raw.githubusercontent.com/asegura4488/Database/main/MetodosComputacionalesReforma/\n",
        "Parabolico.csv\n",
        "Estime el vector velocidad inicial, que estar´ıa definido por la magnitud y direcci´on. Rpta:\n",
        "V0 = 10 m/s y θ = 20◦. Hint: Encuentre el termino lineal y cuadr´atico de la interpolaci´on\n",
        "y compare con la ecuaci´on de trayectoria de la bala."
      ],
      "metadata": {
        "id": "LUq4UDC6kJdN"
      }
    },
    {
      "cell_type": "code",
      "source": [],
      "metadata": {
        "id": "ZObMJgY3kK2r"
      },
      "execution_count": null,
      "outputs": []
    }
  ]
}